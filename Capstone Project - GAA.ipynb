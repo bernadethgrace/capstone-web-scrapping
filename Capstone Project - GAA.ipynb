{
 "cells": [
  {
   "cell_type": "markdown",
   "metadata": {},
   "source": [
    "# Capstone Webscrapping using BeautifulSoup\n",
    "\n",
    "This notebook contains guidances & tasks on the data processing for the application\n",
    "\n",
    "## background\n",
    "\n",
    "The table below shows historical exchange rates between the Indonesian Rupiah (IDR) and the US Dollar (USD) between 7/12/2021 and 1/7/2022\n",
    "\n",
    "## Requesting the Data and Creating a BeautifulSoup\n",
    "\n",
    "Let's begin with requesting the web from the site with `get` method."
   ]
  },
  {
   "cell_type": "code",
   "execution_count": 1,
   "metadata": {
    "ExecuteTime": {
     "end_time": "2020-01-13T05:12:23.275508Z",
     "start_time": "2020-01-13T05:12:20.009898Z"
    }
   },
   "outputs": [],
   "source": [
    "import requests\n",
    "\n",
    "url_get = requests.get('https://www.exchange-rates.org/history/IDR/USD/T')"
   ]
  },
  {
   "cell_type": "markdown",
   "metadata": {},
   "source": [
    "To visualize what exactly you get from the `request.get`, we can use .content so ee what we exactly get, in here i slice it so it won't make our screen full of the html we get from the page. You can delete the slicing if you want to see what we fully get."
   ]
  },
  {
   "cell_type": "code",
   "execution_count": 2,
   "metadata": {
    "ExecuteTime": {
     "end_time": "2020-01-13T05:12:23.290648Z",
     "start_time": "2020-01-13T05:12:23.277650Z"
    }
   },
   "outputs": [
    {
     "data": {
      "text/plain": [
       "b'!DOCTYPE html>\\r\\n<!--[if lt IE 9]>\\r\\n<html class=\"no-js ie8 oldie\" lang=\"en\" xml:lang=\\'en\\'>\\r\\n<![endif]-->\\r\\n<!--[if gt IE 8]><!--><html class=\"no-js\" lang=\"en\" xml:lang=\\'en\\'><!--<![endif]-->\\r\\n<head>\\r\\n<title>Indonesian Rupiah Exchange Rate - US Dollar - Historical Exchange Rates</title>\\r\\n<meta http-equiv=\"X-UA-Compatible\" content=\"IE=edge\">\\r\\n<meta name=\"viewport\" content=\"width=device-width, initial-scale=1, maximum-scale=5\">\\r\\n<meta charset=\"utf-8\" /><meta http-equiv=\"Content-Type\" content=\"text/ht'"
      ]
     },
     "execution_count": 2,
     "metadata": {},
     "output_type": "execute_result"
    }
   ],
   "source": [
    "url_get.content[1:500]"
   ]
  },
  {
   "cell_type": "markdown",
   "metadata": {},
   "source": [
    "As we can see we get a very unstructured and complex html, which actually contains the codes needed to show the webpages on your web browser. But we as human still confused what and where we can use that piece of code, so here where we use the beautifulsoup. Beautiful soup class will result a beautifulsoup object. Beautiful Soup transforms a complex HTML document into a complex tree of Python objects. \n",
    "\n",
    "Let's make Beautiful soup object and feel free to explore the object here."
   ]
  },
  {
   "cell_type": "code",
   "execution_count": 3,
   "metadata": {
    "ExecuteTime": {
     "end_time": "2020-01-13T05:12:23.808122Z",
     "start_time": "2020-01-13T05:12:23.292610Z"
    }
   },
   "outputs": [],
   "source": [
    "from bs4 import BeautifulSoup \n",
    "\n",
    "soup = BeautifulSoup(url_get.content,\"html.parser\")"
   ]
  },
  {
   "cell_type": "markdown",
   "metadata": {},
   "source": [
    "## Finding the right key to scrap the data & Extracting the right information"
   ]
  },
  {
   "cell_type": "markdown",
   "metadata": {},
   "source": [
    "Find the key and put the key into the `.find()` Put all the exploring the right key at this cell. \n",
    "We can see from inspecting the web that the key refer to : `<div class=\"table-responsive\">`"
   ]
  },
  {
   "cell_type": "code",
   "execution_count": 4,
   "metadata": {
    "ExecuteTime": {
     "end_time": "2020-01-13T05:12:23.878904Z",
     "start_time": "2020-01-13T05:12:23.854974Z"
    }
   },
   "outputs": [
    {
     "name": "stdout",
     "output_type": "stream",
     "text": [
      "div class=\"table-responsive\">\n",
      " <table class=\"table table-striped table-hover table-hover-solid-row table-simple history-data\">\n",
      "  <tbody>\n",
      "   <tr>\n",
      "    <td>\n",
      "     1/7/2022\n",
      "    </td>\n",
      "    <td>\n",
      "     Friday\n",
      "    </td>\n",
      "    <td>\n",
      "     <a href=\"/Rate/USD/IDR/1-7-2022\">\n",
      "      14,303.69386\n",
      "     </a>\n",
      "     IDR\n",
      "    </td>\n",
      "    <td class=\"text-narrow-screen-hidden\">\n",
      "     <a href=\"/Rate/USD/IDR/1-7-2022\">\n",
      "      USD IDR rate for 1/7/2022\n",
      "     </a>\n",
      "    </td>\n",
      "   </tr>\n",
      "   <tr>\n",
      "    <td>\n",
      "     1/6/2022\n",
      "    </td>\n",
      "    <td>\n",
      " \n"
     ]
    }
   ],
   "source": [
    "table = soup.find('div',attrs={'class':'table-responsive'})\n",
    "print(table.prettify()[1:500])"
   ]
  },
  {
   "cell_type": "markdown",
   "metadata": {},
   "source": [
    "Finding row length."
   ]
  },
  {
   "cell_type": "code",
   "execution_count": 5,
   "metadata": {},
   "outputs": [
    {
     "data": {
      "text/plain": [
       "130"
      ]
     },
     "execution_count": 5,
     "metadata": {},
     "output_type": "execute_result"
    }
   ],
   "source": [
    "row = table.find_all('tr')\n",
    "row_length = len(row)\n",
    "row_length"
   ]
  },
  {
   "cell_type": "markdown",
   "metadata": {},
   "source": [
    "Do the scrapping process here:\n",
    "1. Period: Scrapping the **period** column was kind of tricky, since almost all columns refer only to one key `<td>`, so we need to find the pattern that could scrap only for **period** column. Here, I get the pattern that every 4 times in a row, it appears **period** \n",
    "2. Rate: Same as **period**, scrapping the **rate** column was kind of tricky too. There are 2 field that refer to key `<a>` to detect **rate**, so we also need to find the pattern that could scrap only for **rate** column. Here, I get the pattern that every 2 times in a row, it appears **rate** \n",
    "    "
   ]
  },
  {
   "cell_type": "code",
   "execution_count": 6,
   "metadata": {
    "ExecuteTime": {
     "end_time": "2020-01-13T05:12:24.008256Z",
     "start_time": "2020-01-13T05:12:23.980358Z"
    }
   },
   "outputs": [
    {
     "data": {
      "text/plain": [
       "[('1/7/2022', '14,303.69386'),\n",
       " ('1/6/2022', '14,387.13904'),\n",
       " ('1/5/2022', '14,376.59427'),\n",
       " ('1/4/2022', '14,306.22137'),\n",
       " ('1/3/2022', '14,271.10676'),\n",
       " ('12/31/2021', '14,184.77099'),\n",
       " ('12/30/2021', '14,249.76380'),\n",
       " ('12/29/2021', '14,198.28676'),\n",
       " ('12/28/2021', '14,221.34174'),\n",
       " ('12/27/2021', '14,227.31928'),\n",
       " ('12/24/2021', '14,264.51755'),\n",
       " ('12/23/2021', '14,256.89960'),\n",
       " ('12/22/2021', '14,298.20378'),\n",
       " ('12/21/2021', '14,304.01234'),\n",
       " ('12/20/2021', '14,382.49273'),\n",
       " ('12/17/2021', '14,389.66562'),\n",
       " ('12/16/2021', '14,330.91366'),\n",
       " ('12/15/2021', '14,251.62584'),\n",
       " ('12/14/2021', '14,341.93227'),\n",
       " ('12/13/2021', '14,357.75629'),\n",
       " ('12/10/2021', '14,370.27875'),\n",
       " ('12/9/2021', '14,344.97904'),\n",
       " ('12/8/2021', '14,370.91961'),\n",
       " ('12/7/2021', '14,347.32452'),\n",
       " ('12/6/2021', '14,432.56943'),\n",
       " ('12/3/2021', '14,389.50020'),\n",
       " ('12/2/2021', '14,392.39767'),\n",
       " ('12/1/2021', '14,347.93748'),\n",
       " ('11/30/2021', '14,353.30743'),\n",
       " ('11/29/2021', '14,295.39385'),\n",
       " ('11/26/2021', '14,300.35336'),\n",
       " ('11/25/2021', '14,283.22294'),\n",
       " ('11/24/2021', '14,320.08606'),\n",
       " ('11/23/2021', '14,259.04525'),\n",
       " ('11/22/2021', '14,243.50566'),\n",
       " ('11/19/2021', '14,243.55587'),\n",
       " ('11/18/2021', '14,225.41528'),\n",
       " ('11/17/2021', '14,246.59228'),\n",
       " ('11/16/2021', '14,222.37140'),\n",
       " ('11/15/2021', '14,235.75523'),\n",
       " ('11/12/2021', '14,233.63534'),\n",
       " ('11/11/2021', '14,288.84762'),\n",
       " ('11/10/2021', '14,271.96265'),\n",
       " ('11/9/2021', '14,243.01887'),\n",
       " ('11/8/2021', '14,257.97264'),\n",
       " ('11/5/2021', '14,338.39761'),\n",
       " ('11/4/2021', '14,334.06331'),\n",
       " ('11/3/2021', '14,256.74541'),\n",
       " ('11/2/2021', '14,256.29202'),\n",
       " ('11/1/2021', '14,233.76847'),\n",
       " ('10/29/2021', '14,288.95452'),\n",
       " ('10/28/2021', '14,175.29082'),\n",
       " ('10/27/2021', '14,141.55342'),\n",
       " ('10/26/2021', '14,166.19588'),\n",
       " ('10/25/2021', '14,152.60477'),\n",
       " ('10/22/2021', '14,110.21079'),\n",
       " ('10/21/2021', '14,121.60389'),\n",
       " ('10/20/2021', '14,079.51380'),\n",
       " ('10/19/2021', '14,075.46229'),\n",
       " ('10/18/2021', '14,056.43762'),\n",
       " ('10/15/2021', '14,070.19147'),\n",
       " ('10/14/2021', '14,105.27223'),\n",
       " ('10/13/2021', '14,204.85164'),\n",
       " ('10/12/2021', '14,214.84450'),\n",
       " ('10/11/2021', '14,220.90165'),\n",
       " ('10/8/2021', '14,217.98083'),\n",
       " ('10/7/2021', '14,248.99612'),\n",
       " ('10/6/2021', '14,245.00000'),\n",
       " ('10/5/2021', '14,260.00000'),\n",
       " ('10/4/2021', '14,262.54265'),\n",
       " ('10/1/2021', '14,293.86378'),\n",
       " ('9/30/2021', '14,298.48079'),\n",
       " ('9/29/2021', '14,367.73186'),\n",
       " ('9/28/2021', '14,271.16497'),\n",
       " ('9/27/2021', '14,264.68406'),\n",
       " ('9/24/2021', '14,272.18430'),\n",
       " ('9/23/2021', '14,242.87856'),\n",
       " ('9/22/2021', '14,299.15334'),\n",
       " ('9/21/2021', '14,238.62381'),\n",
       " ('9/20/2021', '14,235.10302'),\n",
       " ('9/17/2021', '14,293.12609'),\n",
       " ('9/16/2021', '14,250.19893'),\n",
       " ('9/15/2021', '14,235.96566'),\n",
       " ('9/14/2021', '14,244.84504'),\n",
       " ('9/13/2021', '14,298.65671'),\n",
       " ('9/10/2021', '14,226.67070'),\n",
       " ('9/9/2021', '14,260.57530'),\n",
       " ('9/8/2021', '14,251.89711'),\n",
       " ('9/7/2021', '14,249.33912'),\n",
       " ('9/6/2021', '14,214.47321'),\n",
       " ('9/3/2021', '14,251.87392'),\n",
       " ('9/2/2021', '14,248.52165'),\n",
       " ('9/1/2021', '14,257.71231'),\n",
       " ('8/31/2021', '14,296.13264'),\n",
       " ('8/30/2021', '14,367.01609'),\n",
       " ('8/27/2021', '14,368.74436'),\n",
       " ('8/26/2021', '14,415.01986'),\n",
       " ('8/25/2021', '14,386.20000'),\n",
       " ('8/24/2021', '14,379.34070'),\n",
       " ('8/23/2021', '14,400.21794'),\n",
       " ('8/20/2021', '14,460.04574'),\n",
       " ('8/19/2021', '14,411.77604'),\n",
       " ('8/18/2021', '14,372.20861'),\n",
       " ('8/17/2021', '14,439.92418'),\n",
       " ('8/16/2021', '14,376.39296'),\n",
       " ('8/13/2021', '14,327.19776'),\n",
       " ('8/12/2021', '14,387.28127'),\n",
       " ('8/11/2021', '14,385.48676'),\n",
       " ('8/10/2021', '14,379.25224'),\n",
       " ('8/9/2021', '14,363.60538'),\n",
       " ('8/6/2021', '14,403.07373'),\n",
       " ('8/5/2021', '14,315.95314'),\n",
       " ('8/4/2021', '14,313.11092'),\n",
       " ('8/3/2021', '14,391.49693'),\n",
       " ('8/2/2021', '14,445.82502'),\n",
       " ('7/30/2021', '14,501.55250'),\n",
       " ('7/29/2021', '14,467.14994'),\n",
       " ('7/28/2021', '14,414.21667'),\n",
       " ('7/27/2021', '14,468.66842'),\n",
       " ('7/26/2021', '14,487.54718'),\n",
       " ('7/23/2021', '14,492.63051'),\n",
       " ('7/22/2021', '14,508.09177'),\n",
       " ('7/21/2021', '14,495.34596'),\n",
       " ('7/20/2021', '14,514.10964'),\n",
       " ('7/19/2021', '14,490.12260'),\n",
       " ('7/16/2021', '14,495.41215'),\n",
       " ('7/15/2021', '14,469.95831'),\n",
       " ('7/14/2021', '14,404.17703'),\n",
       " ('7/13/2021', '14,476.52203'),\n",
       " ('7/12/2021', '14,491.59294')]"
      ]
     },
     "execution_count": 6,
     "metadata": {},
     "output_type": "execute_result"
    }
   ],
   "source": [
    "temp = [] #initiating a tuple\n",
    "\n",
    "for i in range(0, row_length):\n",
    "\n",
    "    #scrapping process    \n",
    "    #get period \n",
    "    period = table.find_all('td')[i*4].text\n",
    "\n",
    "    #get period \n",
    "    rate = table.find_all('a')[i*2].text\n",
    "\n",
    "    temp.append((period,rate)) \n",
    "temp "
   ]
  },
  {
   "cell_type": "markdown",
   "metadata": {},
   "source": [
    "We can see the data was reversed, so we can sort it using this code:"
   ]
  },
  {
   "cell_type": "code",
   "execution_count": 7,
   "metadata": {},
   "outputs": [
    {
     "data": {
      "text/plain": [
       "[('7/12/2021', '14,491.59294'),\n",
       " ('7/13/2021', '14,476.52203'),\n",
       " ('7/14/2021', '14,404.17703'),\n",
       " ('7/15/2021', '14,469.95831'),\n",
       " ('7/16/2021', '14,495.41215'),\n",
       " ('7/19/2021', '14,490.12260'),\n",
       " ('7/20/2021', '14,514.10964'),\n",
       " ('7/21/2021', '14,495.34596'),\n",
       " ('7/22/2021', '14,508.09177'),\n",
       " ('7/23/2021', '14,492.63051'),\n",
       " ('7/26/2021', '14,487.54718'),\n",
       " ('7/27/2021', '14,468.66842'),\n",
       " ('7/28/2021', '14,414.21667'),\n",
       " ('7/29/2021', '14,467.14994'),\n",
       " ('7/30/2021', '14,501.55250'),\n",
       " ('8/2/2021', '14,445.82502'),\n",
       " ('8/3/2021', '14,391.49693'),\n",
       " ('8/4/2021', '14,313.11092'),\n",
       " ('8/5/2021', '14,315.95314'),\n",
       " ('8/6/2021', '14,403.07373'),\n",
       " ('8/9/2021', '14,363.60538'),\n",
       " ('8/10/2021', '14,379.25224'),\n",
       " ('8/11/2021', '14,385.48676'),\n",
       " ('8/12/2021', '14,387.28127'),\n",
       " ('8/13/2021', '14,327.19776'),\n",
       " ('8/16/2021', '14,376.39296'),\n",
       " ('8/17/2021', '14,439.92418'),\n",
       " ('8/18/2021', '14,372.20861'),\n",
       " ('8/19/2021', '14,411.77604'),\n",
       " ('8/20/2021', '14,460.04574'),\n",
       " ('8/23/2021', '14,400.21794'),\n",
       " ('8/24/2021', '14,379.34070'),\n",
       " ('8/25/2021', '14,386.20000'),\n",
       " ('8/26/2021', '14,415.01986'),\n",
       " ('8/27/2021', '14,368.74436'),\n",
       " ('8/30/2021', '14,367.01609'),\n",
       " ('8/31/2021', '14,296.13264'),\n",
       " ('9/1/2021', '14,257.71231'),\n",
       " ('9/2/2021', '14,248.52165'),\n",
       " ('9/3/2021', '14,251.87392'),\n",
       " ('9/6/2021', '14,214.47321'),\n",
       " ('9/7/2021', '14,249.33912'),\n",
       " ('9/8/2021', '14,251.89711'),\n",
       " ('9/9/2021', '14,260.57530'),\n",
       " ('9/10/2021', '14,226.67070'),\n",
       " ('9/13/2021', '14,298.65671'),\n",
       " ('9/14/2021', '14,244.84504'),\n",
       " ('9/15/2021', '14,235.96566'),\n",
       " ('9/16/2021', '14,250.19893'),\n",
       " ('9/17/2021', '14,293.12609'),\n",
       " ('9/20/2021', '14,235.10302'),\n",
       " ('9/21/2021', '14,238.62381'),\n",
       " ('9/22/2021', '14,299.15334'),\n",
       " ('9/23/2021', '14,242.87856'),\n",
       " ('9/24/2021', '14,272.18430'),\n",
       " ('9/27/2021', '14,264.68406'),\n",
       " ('9/28/2021', '14,271.16497'),\n",
       " ('9/29/2021', '14,367.73186'),\n",
       " ('9/30/2021', '14,298.48079'),\n",
       " ('10/1/2021', '14,293.86378'),\n",
       " ('10/4/2021', '14,262.54265'),\n",
       " ('10/5/2021', '14,260.00000'),\n",
       " ('10/6/2021', '14,245.00000'),\n",
       " ('10/7/2021', '14,248.99612'),\n",
       " ('10/8/2021', '14,217.98083'),\n",
       " ('10/11/2021', '14,220.90165'),\n",
       " ('10/12/2021', '14,214.84450'),\n",
       " ('10/13/2021', '14,204.85164'),\n",
       " ('10/14/2021', '14,105.27223'),\n",
       " ('10/15/2021', '14,070.19147'),\n",
       " ('10/18/2021', '14,056.43762'),\n",
       " ('10/19/2021', '14,075.46229'),\n",
       " ('10/20/2021', '14,079.51380'),\n",
       " ('10/21/2021', '14,121.60389'),\n",
       " ('10/22/2021', '14,110.21079'),\n",
       " ('10/25/2021', '14,152.60477'),\n",
       " ('10/26/2021', '14,166.19588'),\n",
       " ('10/27/2021', '14,141.55342'),\n",
       " ('10/28/2021', '14,175.29082'),\n",
       " ('10/29/2021', '14,288.95452'),\n",
       " ('11/1/2021', '14,233.76847'),\n",
       " ('11/2/2021', '14,256.29202'),\n",
       " ('11/3/2021', '14,256.74541'),\n",
       " ('11/4/2021', '14,334.06331'),\n",
       " ('11/5/2021', '14,338.39761'),\n",
       " ('11/8/2021', '14,257.97264'),\n",
       " ('11/9/2021', '14,243.01887'),\n",
       " ('11/10/2021', '14,271.96265'),\n",
       " ('11/11/2021', '14,288.84762'),\n",
       " ('11/12/2021', '14,233.63534'),\n",
       " ('11/15/2021', '14,235.75523'),\n",
       " ('11/16/2021', '14,222.37140'),\n",
       " ('11/17/2021', '14,246.59228'),\n",
       " ('11/18/2021', '14,225.41528'),\n",
       " ('11/19/2021', '14,243.55587'),\n",
       " ('11/22/2021', '14,243.50566'),\n",
       " ('11/23/2021', '14,259.04525'),\n",
       " ('11/24/2021', '14,320.08606'),\n",
       " ('11/25/2021', '14,283.22294'),\n",
       " ('11/26/2021', '14,300.35336'),\n",
       " ('11/29/2021', '14,295.39385'),\n",
       " ('11/30/2021', '14,353.30743'),\n",
       " ('12/1/2021', '14,347.93748'),\n",
       " ('12/2/2021', '14,392.39767'),\n",
       " ('12/3/2021', '14,389.50020'),\n",
       " ('12/6/2021', '14,432.56943'),\n",
       " ('12/7/2021', '14,347.32452'),\n",
       " ('12/8/2021', '14,370.91961'),\n",
       " ('12/9/2021', '14,344.97904'),\n",
       " ('12/10/2021', '14,370.27875'),\n",
       " ('12/13/2021', '14,357.75629'),\n",
       " ('12/14/2021', '14,341.93227'),\n",
       " ('12/15/2021', '14,251.62584'),\n",
       " ('12/16/2021', '14,330.91366'),\n",
       " ('12/17/2021', '14,389.66562'),\n",
       " ('12/20/2021', '14,382.49273'),\n",
       " ('12/21/2021', '14,304.01234'),\n",
       " ('12/22/2021', '14,298.20378'),\n",
       " ('12/23/2021', '14,256.89960'),\n",
       " ('12/24/2021', '14,264.51755'),\n",
       " ('12/27/2021', '14,227.31928'),\n",
       " ('12/28/2021', '14,221.34174'),\n",
       " ('12/29/2021', '14,198.28676'),\n",
       " ('12/30/2021', '14,249.76380'),\n",
       " ('12/31/2021', '14,184.77099'),\n",
       " ('1/3/2022', '14,271.10676'),\n",
       " ('1/4/2022', '14,306.22137'),\n",
       " ('1/5/2022', '14,376.59427'),\n",
       " ('1/6/2022', '14,387.13904'),\n",
       " ('1/7/2022', '14,303.69386')]"
      ]
     },
     "execution_count": 7,
     "metadata": {},
     "output_type": "execute_result"
    }
   ],
   "source": [
    "temp = temp[::-1]\n",
    "temp"
   ]
  },
  {
   "cell_type": "markdown",
   "metadata": {},
   "source": [
    "## Creating data frame & Data wrangling"
   ]
  },
  {
   "cell_type": "markdown",
   "metadata": {},
   "source": [
    "Put the array into dataframe"
   ]
  },
  {
   "cell_type": "code",
   "execution_count": 59,
   "metadata": {
    "ExecuteTime": {
     "end_time": "2020-01-13T05:12:41.517372Z",
     "start_time": "2020-01-13T05:12:29.130015Z"
    }
   },
   "outputs": [
    {
     "data": {
      "text/html": [
       "<div>\n",
       "<style scoped>\n",
       "    .dataframe tbody tr th:only-of-type {\n",
       "        vertical-align: middle;\n",
       "    }\n",
       "\n",
       "    .dataframe tbody tr th {\n",
       "        vertical-align: top;\n",
       "    }\n",
       "\n",
       "    .dataframe thead th {\n",
       "        text-align: right;\n",
       "    }\n",
       "</style>\n",
       "<table border=\"1\" class=\"dataframe\">\n",
       "  <thead>\n",
       "    <tr style=\"text-align: right;\">\n",
       "      <th></th>\n",
       "      <th>period</th>\n",
       "      <th>rate</th>\n",
       "    </tr>\n",
       "  </thead>\n",
       "  <tbody>\n",
       "    <tr>\n",
       "      <th>0</th>\n",
       "      <td>7/12/2021</td>\n",
       "      <td>14,491.59294</td>\n",
       "    </tr>\n",
       "    <tr>\n",
       "      <th>1</th>\n",
       "      <td>7/13/2021</td>\n",
       "      <td>14,476.52203</td>\n",
       "    </tr>\n",
       "    <tr>\n",
       "      <th>2</th>\n",
       "      <td>7/14/2021</td>\n",
       "      <td>14,404.17703</td>\n",
       "    </tr>\n",
       "    <tr>\n",
       "      <th>3</th>\n",
       "      <td>7/15/2021</td>\n",
       "      <td>14,469.95831</td>\n",
       "    </tr>\n",
       "    <tr>\n",
       "      <th>4</th>\n",
       "      <td>7/16/2021</td>\n",
       "      <td>14,495.41215</td>\n",
       "    </tr>\n",
       "  </tbody>\n",
       "</table>\n",
       "</div>"
      ],
      "text/plain": [
       "      period          rate\n",
       "0  7/12/2021  14,491.59294\n",
       "1  7/13/2021  14,476.52203\n",
       "2  7/14/2021  14,404.17703\n",
       "3  7/15/2021  14,469.95831\n",
       "4  7/16/2021  14,495.41215"
      ]
     },
     "execution_count": 59,
     "metadata": {},
     "output_type": "execute_result"
    }
   ],
   "source": [
    "import pandas as pd\n",
    "\n",
    "df = pd.DataFrame(temp, columns = ('period','rate'))\n",
    "df.head()"
   ]
  },
  {
   "cell_type": "markdown",
   "metadata": {},
   "source": [
    "## Data Cleaning\n",
    "First, we want to see if the data has missing values using this code:"
   ]
  },
  {
   "cell_type": "code",
   "execution_count": 60,
   "metadata": {
    "ExecuteTime": {
     "end_time": "2020-01-13T05:12:59.165559Z",
     "start_time": "2020-01-13T05:12:58.910012Z"
    }
   },
   "outputs": [
    {
     "data": {
      "text/plain": [
       "period    0\n",
       "rate      0\n",
       "dtype: int64"
      ]
     },
     "execution_count": 60,
     "metadata": {},
     "output_type": "execute_result"
    }
   ],
   "source": [
    "df.isna().sum()"
   ]
  },
  {
   "cell_type": "markdown",
   "metadata": {},
   "source": [
    "As we can see, the data has no missing values, so we don't need the imputation process"
   ]
  },
  {
   "cell_type": "markdown",
   "metadata": {},
   "source": [
    "Next, we will check the types of data, and assign them to the right types"
   ]
  },
  {
   "cell_type": "code",
   "execution_count": 61,
   "metadata": {},
   "outputs": [
    {
     "data": {
      "text/plain": [
       "period    object\n",
       "rate      object\n",
       "dtype: object"
      ]
     },
     "execution_count": 61,
     "metadata": {},
     "output_type": "execute_result"
    }
   ],
   "source": [
    "df.dtypes"
   ]
  },
  {
   "cell_type": "code",
   "execution_count": 62,
   "metadata": {},
   "outputs": [
    {
     "data": {
      "text/plain": [
       "period    datetime64[ns]\n",
       "rate             float64\n",
       "dtype: object"
      ]
     },
     "execution_count": 62,
     "metadata": {},
     "output_type": "execute_result"
    }
   ],
   "source": [
    "df['rate'] = df['rate'].str.replace(\",\",\"\")\n",
    "df['rate'] = df['rate'].astype('float64')\n",
    "\n",
    "df['period'] = df['period'].astype('datetime64')\n",
    "\n",
    "df.dtypes"
   ]
  },
  {
   "cell_type": "markdown",
   "metadata": {},
   "source": [
    "### Data visualisation \n",
    "#### 1. Day to Day Historical Data, using line plot since it was a time series data "
   ]
  },
  {
   "cell_type": "code",
   "execution_count": 63,
   "metadata": {},
   "outputs": [],
   "source": [
    "df = df.set_index('period')"
   ]
  },
  {
   "cell_type": "code",
   "execution_count": 64,
   "metadata": {},
   "outputs": [
    {
     "data": {
      "text/plain": [
       "<matplotlib.axes._subplots.AxesSubplot at 0x517b1d8>"
      ]
     },
     "execution_count": 64,
     "metadata": {},
     "output_type": "execute_result"
    },
    {
     "data": {
      "image/png": "[encoded data removed]",
      "text/plain": [
       "<Figure size 432x288 with 1 Axes>"
      ]
     },
     "metadata": {
      "needs_background": "light"
     },
     "output_type": "display_data"
    }
   ],
   "source": [
    "df.plot()"
   ]
  },
  {
   "cell_type": "markdown",
   "metadata": {},
   "source": [
    "#### 2. Average per Month of Exchange Rate"
   ]
  },
  {
   "cell_type": "code",
   "execution_count": 89,
   "metadata": {},
   "outputs": [
    {
     "data": {
      "text/html": [
       "<div>\n",
       "<style scoped>\n",
       "    .dataframe tbody tr th:only-of-type {\n",
       "        vertical-align: middle;\n",
       "    }\n",
       "\n",
       "    .dataframe tbody tr th {\n",
       "        vertical-align: top;\n",
       "    }\n",
       "\n",
       "    .dataframe thead th {\n",
       "        text-align: right;\n",
       "    }\n",
       "</style>\n",
       "<table border=\"1\" class=\"dataframe\">\n",
       "  <thead>\n",
       "    <tr style=\"text-align: right;\">\n",
       "      <th></th>\n",
       "      <th>index</th>\n",
       "      <th>period</th>\n",
       "      <th>rate</th>\n",
       "      <th>month</th>\n",
       "    </tr>\n",
       "  </thead>\n",
       "  <tbody>\n",
       "    <tr>\n",
       "      <th>0</th>\n",
       "      <td>0</td>\n",
       "      <td>2021-07-12</td>\n",
       "      <td>14491.59294</td>\n",
       "      <td>2021-07</td>\n",
       "    </tr>\n",
       "    <tr>\n",
       "      <th>1</th>\n",
       "      <td>1</td>\n",
       "      <td>2021-07-13</td>\n",
       "      <td>14476.52203</td>\n",
       "      <td>2021-07</td>\n",
       "    </tr>\n",
       "    <tr>\n",
       "      <th>2</th>\n",
       "      <td>2</td>\n",
       "      <td>2021-07-14</td>\n",
       "      <td>14404.17703</td>\n",
       "      <td>2021-07</td>\n",
       "    </tr>\n",
       "    <tr>\n",
       "      <th>3</th>\n",
       "      <td>3</td>\n",
       "      <td>2021-07-15</td>\n",
       "      <td>14469.95831</td>\n",
       "      <td>2021-07</td>\n",
       "    </tr>\n",
       "    <tr>\n",
       "      <th>4</th>\n",
       "      <td>4</td>\n",
       "      <td>2021-07-16</td>\n",
       "      <td>14495.41215</td>\n",
       "      <td>2021-07</td>\n",
       "    </tr>\n",
       "    <tr>\n",
       "      <th>...</th>\n",
       "      <td>...</td>\n",
       "      <td>...</td>\n",
       "      <td>...</td>\n",
       "      <td>...</td>\n",
       "    </tr>\n",
       "    <tr>\n",
       "      <th>125</th>\n",
       "      <td>125</td>\n",
       "      <td>2022-01-03</td>\n",
       "      <td>14271.10676</td>\n",
       "      <td>2022-01</td>\n",
       "    </tr>\n",
       "    <tr>\n",
       "      <th>126</th>\n",
       "      <td>126</td>\n",
       "      <td>2022-01-04</td>\n",
       "      <td>14306.22137</td>\n",
       "      <td>2022-01</td>\n",
       "    </tr>\n",
       "    <tr>\n",
       "      <th>127</th>\n",
       "      <td>127</td>\n",
       "      <td>2022-01-05</td>\n",
       "      <td>14376.59427</td>\n",
       "      <td>2022-01</td>\n",
       "    </tr>\n",
       "    <tr>\n",
       "      <th>128</th>\n",
       "      <td>128</td>\n",
       "      <td>2022-01-06</td>\n",
       "      <td>14387.13904</td>\n",
       "      <td>2022-01</td>\n",
       "    </tr>\n",
       "    <tr>\n",
       "      <th>129</th>\n",
       "      <td>129</td>\n",
       "      <td>2022-01-07</td>\n",
       "      <td>14303.69386</td>\n",
       "      <td>2022-01</td>\n",
       "    </tr>\n",
       "  </tbody>\n",
       "</table>\n",
       "<p>130 rows × 4 columns</p>\n",
       "</div>"
      ],
      "text/plain": [
       "     index     period         rate    month\n",
       "0        0 2021-07-12  14491.59294  2021-07\n",
       "1        1 2021-07-13  14476.52203  2021-07\n",
       "2        2 2021-07-14  14404.17703  2021-07\n",
       "3        3 2021-07-15  14469.95831  2021-07\n",
       "4        4 2021-07-16  14495.41215  2021-07\n",
       "..     ...        ...          ...      ...\n",
       "125    125 2022-01-03  14271.10676  2022-01\n",
       "126    126 2022-01-04  14306.22137  2022-01\n",
       "127    127 2022-01-05  14376.59427  2022-01\n",
       "128    128 2022-01-06  14387.13904  2022-01\n",
       "129    129 2022-01-07  14303.69386  2022-01\n",
       "\n",
       "[130 rows x 4 columns]"
      ]
     },
     "execution_count": 89,
     "metadata": {},
     "output_type": "execute_result"
    }
   ],
   "source": [
    "df2 = df.copy()\n",
    "df2 = df2.reset_index()\n",
    "df2['month'] = df2['period'].dt.to_period('M')\n",
    "df2"
   ]
  },
  {
   "cell_type": "code",
   "execution_count": 90,
   "metadata": {},
   "outputs": [
    {
     "data": {
      "text/plain": [
       "(13500.0, 14600.0)"
      ]
     },
     "execution_count": 90,
     "metadata": {},
     "output_type": "execute_result"
    },
    {
     "data": {
      "image/png": "[encoded data removed]",
      "text/plain": [
       "<Figure size 432x288 with 1 Axes>"
      ]
     },
     "metadata": {
      "needs_background": "light"
     },
     "output_type": "display_data"
    }
   ],
   "source": [
    "import matplotlib.pyplot as plt\n",
    "ax2 = df[['month','rate']].groupby(by = 'month').mean().plot(kind=\"bar\")\n",
    "plt.ylim((13500,14600))"
   ]
  },
  {
   "cell_type": "markdown",
   "metadata": {},
   "source": [
    ">Insights:\n",
    "1. The trend of Exchange Rate month by month were decreasing, until the lowest Exchange Rate of IDR to USD happened in October\n",
    "2. Start from November, the exchange rate was started to increase again, even that the rate was still very unstable. "
   ]
  },
  {
   "cell_type": "markdown",
   "metadata": {},
   "source": [
    "### Implementing your webscrapping to the flask dashboard\n",
    "\n",
    "- Copy paste all of your web scrapping process to the desired position on the `app.py`\n",
    "- Changing the title of the dasboard at `index.html`"
   ]
  }
 ],
 "metadata": {
  "interpreter": {
   "hash": "99fcc82af4913f1edd8839a0865b51f3b87907bf7cc3849a79c2b1f4446258d9"
  },
  "kernelspec": {
   "display_name": "qoppa_da",
   "language": "python",
   "name": "python3"
  },
  "language_info": {
   "codemirror_mode": {
    "name": "ipython",
    "version": 3
   },
   "file_extension": ".py",
   "mimetype": "text/x-python",
   "name": "python",
   "nbconvert_exporter": "python",
   "pygments_lexer": "ipython3",
   "version": "3.9.7"
  }
 },
 "nbformat": 4,
 "nbformat_minor": 2
}
